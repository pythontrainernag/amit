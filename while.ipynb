{
 "cells": [
  {
   "cell_type": "code",
   "execution_count": 1,
   "metadata": {},
   "outputs": [
    {
     "name": "stdout",
     "output_type": "stream",
     "text": [
      "Hello World\n"
     ]
    }
   ],
   "source": [
    "print \"Hello World\""
   ]
  },
  {
   "cell_type": "code",
   "execution_count": 2,
   "metadata": {},
   "outputs": [
    {
     "name": "stdout",
     "output_type": "stream",
     "text": [
      "Python\n",
      "Automation\n"
     ]
    }
   ],
   "source": [
    "print \"Python\"\n",
    "print \"Automation\""
   ]
  },
  {
   "cell_type": "code",
   "execution_count": 3,
   "metadata": {
    "collapsed": true
   },
   "outputs": [],
   "source": [
    "# while\n",
    "#It will execute set of statements untill the condition fails "
   ]
  },
  {
   "cell_type": "code",
   "execution_count": 4,
   "metadata": {
    "collapsed": true
   },
   "outputs": [],
   "source": [
    "#while <condition>:\n",
    "#  statement1\n",
    "#  st2\n",
    "#  st3\n",
    "#  |\n",
    "#  |\n",
    "#  |\n",
    "#  st(n)"
   ]
  },
  {
   "cell_type": "code",
   "execution_count": 6,
   "metadata": {},
   "outputs": [
    {
     "name": "stdout",
     "output_type": "stream",
     "text": [
      "1\n",
      "2\n",
      "3\n",
      "4\n",
      "5\n"
     ]
    }
   ],
   "source": [
    "# A program to print numbers from 1 to 5\n",
    "n = 1\n",
    "while n<=5:\n",
    "    print(n)\n",
    "    n += 1"
   ]
  },
  {
   "cell_type": "code",
   "execution_count": 7,
   "metadata": {},
   "outputs": [
    {
     "name": "stdout",
     "output_type": "stream",
     "text": [
      "inside while\n",
      "1\n",
      "inside while\n",
      "2\n",
      "inside while\n",
      "3\n",
      "inside while\n",
      "4\n",
      "inside while\n",
      "5\n",
      "outside while\n"
     ]
    }
   ],
   "source": [
    "n = 1\n",
    "while n<=5:\n",
    "    print(\"inside while\")\n",
    "    print(n)\n",
    "    n += 1\n",
    "print(\"outside while\")"
   ]
  },
  {
   "cell_type": "code",
   "execution_count": 8,
   "metadata": {},
   "outputs": [
    {
     "name": "stdout",
     "output_type": "stream",
     "text": [
      "51\n",
      "54\n",
      "57\n",
      "60\n",
      "63\n",
      "66\n",
      "69\n",
      "72\n",
      "75\n",
      "78\n",
      "81\n",
      "84\n",
      "87\n",
      "90\n",
      "93\n",
      "96\n",
      "99\n"
     ]
    }
   ],
   "source": [
    "# print the multiples of 3 between 51 and 100\n",
    "x = 51\n",
    "while x<=100:\n",
    "    if x%3 == 0:\n",
    "        print(x)\n",
    "    x += 1\n"
   ]
  },
  {
   "cell_type": "code",
   "execution_count": 9,
   "metadata": {},
   "outputs": [
    {
     "name": "stdout",
     "output_type": "stream",
     "text": [
      "54\n",
      "57\n",
      "60\n",
      "63\n",
      "66\n",
      "69\n",
      "72\n",
      "75\n",
      "78\n",
      "81\n",
      "84\n",
      "87\n",
      "90\n",
      "93\n",
      "96\n",
      "99\n"
     ]
    }
   ],
   "source": [
    "# print the multiples of 3 between 53 and 100\n",
    "x = 53\n",
    "while x<=100:\n",
    "    if x%3 == 0:\n",
    "        print(x)\n",
    "    x += 1\n"
   ]
  },
  {
   "cell_type": "code",
   "execution_count": 10,
   "metadata": {},
   "outputs": [
    {
     "name": "stdout",
     "output_type": "stream",
     "text": [
      "54\n",
      "57\n",
      "60\n",
      "63\n",
      "66\n",
      "69\n",
      "72\n",
      "75\n",
      "78\n",
      "81\n",
      "84\n",
      "87\n",
      "90\n",
      "93\n",
      "96\n",
      "99\n"
     ]
    }
   ],
   "source": [
    "# print the multiples of 3 between 54 and 100\n",
    "x = 54\n",
    "while x<=100:\n",
    "    print(x)\n",
    "    x += 3\n"
   ]
  },
  {
   "cell_type": "code",
   "execution_count": 11,
   "metadata": {},
   "outputs": [
    {
     "name": "stdout",
     "output_type": "stream",
     "text": [
      "enter a number to find whether is it prime or not 5\n",
      "5\n",
      "you have entered prime number\n"
     ]
    }
   ],
   "source": [
    "# write a program to find whether a given number is prime ot not\n",
    "# a prime is a one which is divisible by 1 and itself\n",
    "x = int(raw_input(\"enter a number to find whether is it prime or not \"))\n",
    "print(x)\n",
    "i = 1\n",
    "count = 0\n",
    "while i <= x:\n",
    "    if x%i == 0:\n",
    "        count += 1 # got incremented when i=1, i=5 for x = 5\n",
    "    i += 1\n",
    "if count == 2:\n",
    "    print(\"you have entered prime number\")\n",
    "else:\n",
    "    print(\" you have entered non prime\")\n"
   ]
  },
  {
   "cell_type": "code",
   "execution_count": 12,
   "metadata": {},
   "outputs": [
    {
     "name": "stdout",
     "output_type": "stream",
     "text": [
      "enter a number to find whether is it prime or not 6\n",
      "6\n",
      "1\n",
      "2\n",
      "3\n",
      "4\n",
      "5\n",
      "6\n",
      " you have entered non prime\n"
     ]
    }
   ],
   "source": [
    "# write a program to find whether a given number is prime ot not\n",
    "# a prime is a one which is divisible by 1 and itself\n",
    "x = int(raw_input(\"enter a number to find whether is it prime or not \"))\n",
    "print(x)# x as 6\n",
    "i = 1\n",
    "count = 0\n",
    "while i <= x:\n",
    "    print(i)\n",
    "    if x%i == 0:\n",
    "        count += 1 # got incremented when i=1, i=2,  i=3,  i=6 for x = 6\n",
    "    i += 1\n",
    "if count == 2:\n",
    "    print(\"you have entered prime number\")\n",
    "else:\n",
    "    print(\" you have entered non prime\")\n"
   ]
  },
  {
   "cell_type": "code",
   "execution_count": 14,
   "metadata": {},
   "outputs": [
    {
     "name": "stdout",
     "output_type": "stream",
     "text": [
      "enter a number to find whether is it prime or not 6\n",
      "6\n",
      "1\n",
      "2\n",
      "3\n",
      "4\n",
      "5\n",
      "6\n",
      " you have entered non prime\n"
     ]
    }
   ],
   "source": [
    "# write a program to find whether a given number is prime ot not\n",
    "# a prime is a one which is divisible by 1 and itself\n",
    "x = int(raw_input(\"enter a number to find whether is it prime or not \"))\n",
    "print(x)# x as 6\n",
    "i = 1\n",
    "count = 0\n",
    "while i <= x:\n",
    "    print(i)\n",
    "    if x%i == 0:\n",
    "        count += 1 # got incremented when i=1, i=2,  i=3,  i=6 for x = 6\n",
    "    i += 1\n",
    "if count == 2:\n",
    "    print(\"you have entered prime number\")\n",
    "else:\n",
    "    print(\" you have entered non prime\")\n"
   ]
  },
  {
   "cell_type": "code",
   "execution_count": 15,
   "metadata": {},
   "outputs": [
    {
     "name": "stdout",
     "output_type": "stream",
     "text": [
      "yahoo\n"
     ]
    }
   ],
   "source": [
    "if 6:\n",
    "    print(\"yahoo\")"
   ]
  },
  {
   "cell_type": "code",
   "execution_count": 16,
   "metadata": {
    "collapsed": true
   },
   "outputs": [],
   "source": [
    "if not 6:\n",
    "    print(\"yahoo\")"
   ]
  },
  {
   "cell_type": "code",
   "execution_count": 20,
   "metadata": {},
   "outputs": [
    {
     "name": "stdout",
     "output_type": "stream",
     "text": [
      "enter a number to find whether is it prime or not 6\n",
      "1\n",
      "2\n",
      "3\n",
      "4\n",
      "5\n",
      "6\n",
      " you have entered non prime\n"
     ]
    }
   ],
   "source": [
    "# write a program to find whether a given number is prime ot not\n",
    "# a prime is a one which is divisible by 1 and itself\n",
    "x = int(raw_input(\"enter a number to find whether is it prime or not \"))\n",
    "i = 1\n",
    "count = 0\n",
    "while i <= x:\n",
    "    print(i)\n",
    "    if not x%i:\n",
    "        count += 1 # got incremented when i=1, i=2,  i=3,  i=6 for x = 6\n",
    "    i += 1\n",
    "if count == 2:\n",
    "    print(\"you have entered prime number\")\n",
    "else:\n",
    "    print(\" you have entered non prime\")\n"
   ]
  },
  {
   "cell_type": "code",
   "execution_count": 1,
   "metadata": {
    "collapsed": true
   },
   "outputs": [],
   "source": [
    "#paramiko it will work paramiko module"
   ]
  },
  {
   "cell_type": "code",
   "execution_count": 1,
   "metadata": {},
   "outputs": [
    {
     "name": "stdout",
     "output_type": "stream",
     "text": [
      "enter a number to verify whether is it prime or not? 7\n",
      "you have entered prime number\n"
     ]
    }
   ],
   "source": [
    "#break\n",
    "#whenever you execute the break statement immediately it will come out of loop\n",
    "\n",
    "isprime = True\n",
    "num = int(raw_input(\"enter a number to verify whether is it prime or not? \"))\n",
    "x = 2\n",
    "while x < num:\n",
    "    if not num%x:\n",
    "        isprime = False\n",
    "        break\n",
    "    x += 1\n",
    "if isprime:\n",
    "    print \"you have entered prime number\"\n",
    "else:\n",
    "    print(\"invalid prime\")"
   ]
  },
  {
   "cell_type": "code",
   "execution_count": 2,
   "metadata": {},
   "outputs": [
    {
     "name": "stdout",
     "output_type": "stream",
     "text": [
      "enter a number to verify whether is it prime or not? 6\n",
      "invalid prime\n"
     ]
    }
   ],
   "source": [
    "#break\n",
    "#whenever you execute the break statement immediately it will come out of loop\n",
    "\n",
    "isprime = True\n",
    "num = int(raw_input(\"enter a number to verify whether is it prime or not? \"))\n",
    "x = 2\n",
    "while x < num:\n",
    "    if not num%x:\n",
    "        isprime = False\n",
    "        break\n",
    "    x += 1\n",
    "if isprime:\n",
    "    print \"you have entered prime number\"\n",
    "else:\n",
    "    print(\"invalid prime\")"
   ]
  },
  {
   "cell_type": "code",
   "execution_count": 5,
   "metadata": {},
   "outputs": [
    {
     "name": "stdout",
     "output_type": "stream",
     "text": [
      "enter a number to verify whether is it prime or not? 9\n",
      "2\n",
      "3\n",
      "invalid prime\n"
     ]
    }
   ],
   "source": [
    "#break\n",
    "#whenever you execute the break statement immediately it will come out of loop\n",
    "\n",
    "isprime = True\n",
    "num = int(raw_input(\"enter a number to verify whether is it prime or not? \"))\n",
    "x = 2\n",
    "while x < num:\n",
    "    print(x)\n",
    "    if not num%x:\n",
    "        isprime = False\n",
    "        break\n",
    "    x += 1\n",
    "if isprime:\n",
    "    print \"you have entered prime number\"\n",
    "else:\n",
    "    print(\"invalid prime\")"
   ]
  },
  {
   "cell_type": "code",
   "execution_count": 4,
   "metadata": {},
   "outputs": [
    {
     "name": "stdout",
     "output_type": "stream",
     "text": [
      "enter a number to verify whether is it prime or not? 7\n",
      "2\n",
      "3\n",
      "4\n",
      "5\n",
      "6\n",
      "you have entered prime number\n"
     ]
    }
   ],
   "source": [
    "#break\n",
    "#whenever you execute the break statement immediately it will come out of loop\n",
    "\n",
    "isprime = True\n",
    "num = int(raw_input(\"enter a number to verify whether is it prime or not? \"))\n",
    "x = 2\n",
    "while x < num:\n",
    "    print(x)\n",
    "    if not num%x:\n",
    "        isprime = False\n",
    "        break\n",
    "    x += 1\n",
    "if isprime:\n",
    "    print \"you have entered prime number\"\n",
    "else:\n",
    "    print(\"invalid prime\")"
   ]
  },
  {
   "cell_type": "code",
   "execution_count": 6,
   "metadata": {},
   "outputs": [
    {
     "name": "stdout",
     "output_type": "stream",
     "text": [
      "enter a number to verify whether is it prime or not? 25\n",
      "2\n",
      "3\n",
      "4\n",
      "5\n",
      "invalid prime\n"
     ]
    }
   ],
   "source": [
    "#break\n",
    "#whenever you execute the break statement immediately it will come out of loop\n",
    "\n",
    "isprime = True\n",
    "num = int(raw_input(\"enter a number to verify whether is it prime or not? \"))\n",
    "x = 2\n",
    "while x < num:\n",
    "    print(x)\n",
    "    if not num%x:\n",
    "        isprime = False\n",
    "        break\n",
    "    x += 1\n",
    "if isprime:\n",
    "    print \"you have entered prime number\"\n",
    "else:\n",
    "    print(\"invalid prime\")"
   ]
  },
  {
   "cell_type": "code",
   "execution_count": 7,
   "metadata": {},
   "outputs": [
    {
     "name": "stdout",
     "output_type": "stream",
     "text": [
      "enter a number to verify whether is it prime or not? 23\n",
      "2\n",
      "3\n",
      "4\n",
      "5\n",
      "6\n",
      "7\n",
      "8\n",
      "9\n",
      "10\n",
      "11\n",
      "12\n",
      "13\n",
      "14\n",
      "15\n",
      "16\n",
      "17\n",
      "18\n",
      "19\n",
      "20\n",
      "21\n",
      "22\n",
      "you have entered prime number\n"
     ]
    }
   ],
   "source": [
    "#break\n",
    "#whenever you execute the break statement immediately it will come out of loop\n",
    "\n",
    "isprime = True\n",
    "num = int(raw_input(\"enter a number to verify whether is it prime or not? \"))\n",
    "x = 2\n",
    "while x < num:\n",
    "    print(x)\n",
    "    if not num%x:\n",
    "        isprime = False\n",
    "        break\n",
    "    x += 1\n",
    "if isprime:\n",
    "    print \"you have entered prime number\"\n",
    "else:\n",
    "    print(\"invalid prime\")"
   ]
  },
  {
   "cell_type": "code",
   "execution_count": 8,
   "metadata": {},
   "outputs": [
    {
     "name": "stdout",
     "output_type": "stream",
     "text": [
      "Python........\n",
      "outside\n"
     ]
    }
   ],
   "source": [
    "while True:\n",
    "    print \"Python........\"\n",
    "    break\n",
    "    print \"Automation......\"\n",
    "print \"outside\""
   ]
  },
  {
   "cell_type": "code",
   "execution_count": 10,
   "metadata": {},
   "outputs": [
    {
     "name": "stdout",
     "output_type": "stream",
     "text": [
      "Python.......\n",
      "outside\n"
     ]
    }
   ],
   "source": [
    "print \"Python.......\"\n",
    "print \"outside\""
   ]
  },
  {
   "cell_type": "code",
   "execution_count": 11,
   "metadata": {
    "collapsed": true
   },
   "outputs": [],
   "source": [
    "#You must and should use break and continue along with some condition\n",
    "#if you are not condition along with break/continue then it indicates that\n",
    "#you can skip the loop in your program"
   ]
  },
  {
   "cell_type": "code",
   "execution_count": 14,
   "metadata": {},
   "outputs": [
    {
     "name": "stdout",
     "output_type": "stream",
     "text": [
      "2\n",
      "4\n",
      "6\n",
      "8\n",
      "10\n"
     ]
    }
   ],
   "source": [
    "#print even numbers till 10 using infinite while loop\n",
    "x =1\n",
    "while True:\n",
    "    if not x%2:\n",
    "        print(x)\n",
    "    x += 1\n",
    "    if x > 10:\n",
    "        break"
   ]
  },
  {
   "cell_type": "code",
   "execution_count": 15,
   "metadata": {},
   "outputs": [
    {
     "name": "stdout",
     "output_type": "stream",
     "text": [
      "3\n",
      "6\n",
      "9\n",
      "12\n",
      "15\n"
     ]
    }
   ],
   "source": [
    "# continue \n",
    "# whenever the continue statement executes it will immediately take you to start of the loop\n",
    "#write a program to print all numbers till 15 which multiples of 3 \n",
    "x = 1\n",
    "while x <= 15:\n",
    "    if x%3:\n",
    "        x += 1\n",
    "        continue\n",
    "    print(x)\n",
    "    x += 1"
   ]
  },
  {
   "cell_type": "code",
   "execution_count": null,
   "metadata": {
    "collapsed": true
   },
   "outputs": [],
   "source": []
  }
 ],
 "metadata": {
  "kernelspec": {
   "display_name": "Python 2",
   "language": "python",
   "name": "python2"
  },
  "language_info": {
   "codemirror_mode": {
    "name": "ipython",
    "version": 2
   },
   "file_extension": ".py",
   "mimetype": "text/x-python",
   "name": "python",
   "nbconvert_exporter": "python",
   "pygments_lexer": "ipython2",
   "version": "2.7.13"
  }
 },
 "nbformat": 4,
 "nbformat_minor": 2
}
